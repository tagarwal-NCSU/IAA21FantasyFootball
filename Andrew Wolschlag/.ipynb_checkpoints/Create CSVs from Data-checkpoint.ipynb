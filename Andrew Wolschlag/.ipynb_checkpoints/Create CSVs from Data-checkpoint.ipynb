{
 "cells": [
  {
   "cell_type": "code",
   "execution_count": 8,
   "id": "80b7a9ef",
   "metadata": {},
   "outputs": [
    {
     "ename": "KeyError",
     "evalue": "'schedule'",
     "output_type": "error",
     "traceback": [
      "\u001b[0;31m---------------------------------------------------------------------------\u001b[0m",
      "\u001b[0;31mKeyError\u001b[0m                                  Traceback (most recent call last)",
      "\u001b[0;32m/var/folders/_q/m5mrvk355mv_mgr99mpzqd280000gn/T/ipykernel_41167/906801423.py\u001b[0m in \u001b[0;36m<module>\u001b[0;34m\u001b[0m\n\u001b[1;32m     20\u001b[0m \u001b[0;34m\u001b[0m\u001b[0m\n\u001b[1;32m     21\u001b[0m \u001b[0;31m#Fetch rosters and teams\u001b[0m\u001b[0;34m\u001b[0m\u001b[0;34m\u001b[0m\u001b[0m\n\u001b[0;32m---> 22\u001b[0;31m \u001b[0mmatchup_rosters\u001b[0m \u001b[0;34m=\u001b[0m \u001b[0mIAA_League\u001b[0m\u001b[0;34m.\u001b[0m\u001b[0mfetch_matchup_rosters\u001b[0m\u001b[0;34m(\u001b[0m\u001b[0;34m)\u001b[0m\u001b[0;34m\u001b[0m\u001b[0;34m\u001b[0m\u001b[0m\n\u001b[0m\u001b[1;32m     23\u001b[0m \u001b[0mteams\u001b[0m \u001b[0;34m=\u001b[0m \u001b[0mIAA_League\u001b[0m\u001b[0;34m.\u001b[0m\u001b[0mfetch_teams\u001b[0m\u001b[0;34m(\u001b[0m\u001b[0;34m)\u001b[0m\u001b[0;34m\u001b[0m\u001b[0;34m\u001b[0m\u001b[0m\n\u001b[1;32m     24\u001b[0m \u001b[0;34m\u001b[0m\u001b[0m\n",
      "\u001b[0;32m~/Documents/GitHub/IAA21FantasyFootball/Andrew Wolschlag/ESPNAPI.py\u001b[0m in \u001b[0;36mfetch_matchup_rosters\u001b[0;34m(self)\u001b[0m\n\u001b[1;32m     93\u001b[0m         \u001b[0;32mfor\u001b[0m \u001b[0mi\u001b[0m \u001b[0;32min\u001b[0m \u001b[0mrange\u001b[0m\u001b[0;34m(\u001b[0m\u001b[0;36m1\u001b[0m\u001b[0;34m,\u001b[0m \u001b[0;36m20\u001b[0m\u001b[0;34m)\u001b[0m\u001b[0;34m:\u001b[0m\u001b[0;34m\u001b[0m\u001b[0;34m\u001b[0m\u001b[0m\n\u001b[1;32m     94\u001b[0m             \u001b[0mmatchup_data\u001b[0m \u001b[0;34m=\u001b[0m \u001b[0mself\u001b[0m\u001b[0;34m.\u001b[0m\u001b[0mfetch_raw\u001b[0m\u001b[0;34m(\u001b[0m\u001b[0;34m\"mMatchup&scoringPeriodId=\"\u001b[0m \u001b[0;34m+\u001b[0m \u001b[0mstr\u001b[0m\u001b[0;34m(\u001b[0m\u001b[0mi\u001b[0m\u001b[0;34m)\u001b[0m\u001b[0;34m)\u001b[0m\u001b[0;34m\u001b[0m\u001b[0;34m\u001b[0m\u001b[0m\n\u001b[0;32m---> 95\u001b[0;31m             \u001b[0mmatchups\u001b[0m \u001b[0;34m=\u001b[0m \u001b[0mmatchup_data\u001b[0m\u001b[0;34m[\u001b[0m\u001b[0;34m'schedule'\u001b[0m\u001b[0;34m]\u001b[0m\u001b[0;34m\u001b[0m\u001b[0;34m\u001b[0m\u001b[0m\n\u001b[0m\u001b[1;32m     96\u001b[0m             \u001b[0;31m#reader = pprint.PrettyPrinter()\u001b[0m\u001b[0;34m\u001b[0m\u001b[0;34m\u001b[0m\u001b[0m\n\u001b[1;32m     97\u001b[0m             \u001b[0;31m#reader.pprint(matchups)\u001b[0m\u001b[0;34m\u001b[0m\u001b[0;34m\u001b[0m\u001b[0m\n",
      "\u001b[0;31mKeyError\u001b[0m: 'schedule'"
     ]
    }
   ],
   "source": [
    "import pprint\n",
    "import requests\n",
    "import pandas as pd\n",
    "from ESPNIDs import POSITION_MAP\n",
    "import json\n",
    "from ESPNAPI import League\n",
    "import pprint\n",
    "import pandas as pd\n",
    "import os\n",
    "\n",
    "path = \"/Users/wolschlag/Documents/GitHub/IAA21FantasyFootball/Andrew Wolschlag/\"\n",
    "\n",
    "\n",
    "year = \"2020\"\n",
    "leagueID = \"139889\"\n",
    "espn_s2 = \"AEBVAY4IP16BsQVvRgpY1hGOur4OKjZCVh6vfBIibHEoA5BHQCg3rZGBvbNbuESU3bQlfQzdveoAqNcmIhoBoO10gq2K%2FOhtdYamn6aQBihs%2FydsgoJehuJgLwAIdcaXlnehxcpTltR58fP0cX18vjZReJjo0OjZGUSOr3ff0Iuz1Ztt8c4rUkFJVTd8cEd%2BT76%2Bvva8s5iQGAfKTUfPA9P2k6xC33qYcaH%2FIYykwIC00PKoJOlysod9yM5bUrA39lpJ2WZQfdICgqXt5zu%2FYaDpiXVznvExI4BIoEFnEVfs3w%3D%3D\"\n",
    "swid = \"{65C194B8-D67C-4A07-8990-988E5F391434}\"\n",
    "\n",
    "IAA_League = League(year, leagueID, espn_s2, swid)  \n",
    "\n",
    "#Fetch rosters and teams\n",
    "matchup_rosters = IAA_League.fetch_matchup_rosters()\n",
    "teams = IAA_League.fetch_teams()\n",
    "\n",
    "reader = pprint.PrettyPrinter()\n",
    "\n",
    "first = True\n",
    "for key, matchup in matchup_rosters.items():\n",
    "    week = matchup['week']\n",
    "    home_team = teams[matchup['homeTeamId']]['teamName']\n",
    "    away_team = teams[matchup['awayTeamId']]['teamName']\n",
    "    n_players = len(matchup['homeRoster'])\n",
    "    home_dict = {'Week': [week] * n_players,\n",
    "                 'MatchupId': [key] * n_players,\n",
    "                 'Home/Away': [\"Home\"] * n_players,\n",
    "                 'Team': [home_team] * n_players,\n",
    "                 'Player': matchup['homeRoster'],\n",
    "                 'Slot': matchup['homeLineup'],\n",
    "                 'Points': matchup['homeRosterScore'],\n",
    "                 'Eligible Slots': [\", \".join(lst) for lst in matchup['homeRosterEligibleSlots']]\n",
    "                }\n",
    "    n_players = len(matchup['awayRoster'])\n",
    "    away_dict = {'Week': [week] * n_players,\n",
    "                 'MatchupId': [key] * n_players,\n",
    "                 'Home/Away': [\"Away\"] * n_players,\n",
    "                 'Team': [away_team] * n_players,\n",
    "                 'Player': matchup['awayRoster'],\n",
    "                 'Slot': matchup['awayLineup'],\n",
    "                 'Points': matchup['awayRosterScore'],\n",
    "                 'Eligible Slots': [\", \".join(lst) for lst in matchup['awayRosterEligibleSlots']]\n",
    "                }\n",
    "    home_df = pd.DataFrame(home_dict)\n",
    "    away_df = pd.DataFrame(away_dict)\n",
    "    if first:\n",
    "        df = pd.concat([home_df, away_df])\n",
    "        df.to_csv(path + \"MATCHUP_DATA_\"+str(year)+\".csv\", index=False)\n",
    "        first = False\n",
    "    else:\n",
    "        df = pd.concat([home_df, away_df])\n",
    "        df.to_csv(path + \"MATCHUP_DATA_\"+str(year)+\".csv\", index=False, header=False, mode='a')\n"
   ]
  },
  {
   "cell_type": "code",
   "execution_count": null,
   "id": "ca76c902",
   "metadata": {},
   "outputs": [],
   "source": []
  },
  {
   "cell_type": "code",
   "execution_count": null,
   "id": "0f90ffc3",
   "metadata": {},
   "outputs": [],
   "source": []
  }
 ],
 "metadata": {
  "kernelspec": {
   "display_name": "Python 3 (ipykernel)",
   "language": "python",
   "name": "python3"
  },
  "language_info": {
   "codemirror_mode": {
    "name": "ipython",
    "version": 3
   },
   "file_extension": ".py",
   "mimetype": "text/x-python",
   "name": "python",
   "nbconvert_exporter": "python",
   "pygments_lexer": "ipython3",
   "version": "3.9.7"
  }
 },
 "nbformat": 4,
 "nbformat_minor": 5
}
