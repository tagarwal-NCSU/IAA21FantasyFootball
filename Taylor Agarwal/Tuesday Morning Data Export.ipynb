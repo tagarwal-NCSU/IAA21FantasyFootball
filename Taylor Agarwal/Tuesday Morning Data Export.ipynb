{
 "cells": [
  {
   "cell_type": "code",
   "execution_count": 3,
   "metadata": {},
   "outputs": [
    {
     "ename": "AttributeError",
     "evalue": "'League' object has no attribute 'fetch'",
     "output_type": "error",
     "traceback": [
      "\u001b[1;31m---------------------------------------------------------------------------\u001b[0m",
      "\u001b[1;31mAttributeError\u001b[0m                            Traceback (most recent call last)",
      "\u001b[1;32m<ipython-input-3-a08cf9cc631c>\u001b[0m in \u001b[0;36m<module>\u001b[1;34m\u001b[0m\n\u001b[0;32m     27\u001b[0m \u001b[1;33m\u001b[0m\u001b[0m\n\u001b[0;32m     28\u001b[0m \u001b[1;32mif\u001b[0m \u001b[0m__name__\u001b[0m \u001b[1;33m==\u001b[0m \u001b[1;34m\"__main__\"\u001b[0m\u001b[1;33m:\u001b[0m\u001b[1;33m\u001b[0m\u001b[1;33m\u001b[0m\u001b[0m\n\u001b[1;32m---> 29\u001b[1;33m     \u001b[0mmain\u001b[0m\u001b[1;33m(\u001b[0m\u001b[1;33m)\u001b[0m\u001b[1;33m\u001b[0m\u001b[1;33m\u001b[0m\u001b[0m\n\u001b[0m",
      "\u001b[1;32m<ipython-input-3-a08cf9cc631c>\u001b[0m in \u001b[0;36mmain\u001b[1;34m()\u001b[0m\n\u001b[0;32m     20\u001b[0m     \u001b[0mthis_week\u001b[0m \u001b[1;33m=\u001b[0m \u001b[1;36m1\u001b[0m\u001b[1;33m\u001b[0m\u001b[1;33m\u001b[0m\u001b[0m\n\u001b[0;32m     21\u001b[0m     \u001b[0mmatchup_rosters\u001b[0m \u001b[1;33m=\u001b[0m \u001b[0mIAA_League\u001b[0m\u001b[1;33m.\u001b[0m\u001b[0mfetch_matchup_rosters\u001b[0m\u001b[1;33m(\u001b[0m\u001b[1;33m)\u001b[0m\u001b[1;33m\u001b[0m\u001b[1;33m\u001b[0m\u001b[0m\n\u001b[1;32m---> 22\u001b[1;33m     \u001b[0mteams\u001b[0m \u001b[1;33m=\u001b[0m \u001b[0mIAA_League\u001b[0m\u001b[1;33m.\u001b[0m\u001b[0mfetch_teams\u001b[0m\u001b[1;33m(\u001b[0m\u001b[1;33m)\u001b[0m\u001b[1;33m\u001b[0m\u001b[1;33m\u001b[0m\u001b[0m\n\u001b[0m\u001b[0;32m     23\u001b[0m \u001b[1;33m\u001b[0m\u001b[0m\n\u001b[0;32m     24\u001b[0m     \u001b[1;32mfor\u001b[0m \u001b[0mkey\u001b[0m\u001b[1;33m,\u001b[0m \u001b[0mmatchup\u001b[0m \u001b[1;32min\u001b[0m \u001b[0mmatchup_rosters\u001b[0m\u001b[1;33m:\u001b[0m\u001b[1;33m\u001b[0m\u001b[1;33m\u001b[0m\u001b[0m\n",
      "\u001b[1;32m~\\Documents\\Git Repos\\IAA21FantasyFootball\\Taylor Agarwal\\ESPNAPI.py\u001b[0m in \u001b[0;36mfetch_teams\u001b[1;34m(self)\u001b[0m\n\u001b[0;32m     46\u001b[0m                               }\n\u001b[0;32m     47\u001b[0m             \u001b[0mteam_id\u001b[0m \u001b[1;33m+=\u001b[0m \u001b[1;36m1\u001b[0m\u001b[1;33m\u001b[0m\u001b[1;33m\u001b[0m\u001b[0m\n\u001b[1;32m---> 48\u001b[1;33m         \u001b[1;32mreturn\u001b[0m \u001b[0mself\u001b[0m\u001b[1;33m.\u001b[0m\u001b[0mfetch\u001b[0m\u001b[1;33m(\u001b[0m\u001b[1;34m\"mTeam\"\u001b[0m\u001b[1;33m)\u001b[0m\u001b[1;33m\u001b[0m\u001b[1;33m\u001b[0m\u001b[0m\n\u001b[0m\u001b[0;32m     49\u001b[0m         \u001b[1;31m#return Teams\u001b[0m\u001b[1;33m\u001b[0m\u001b[1;33m\u001b[0m\u001b[1;33m\u001b[0m\u001b[0m\n\u001b[0;32m     50\u001b[0m \u001b[1;33m\u001b[0m\u001b[0m\n",
      "\u001b[1;31mAttributeError\u001b[0m: 'League' object has no attribute 'fetch'"
     ]
    }
   ],
   "source": [
    "from ESPNAPI import League\n",
    "import pprint\n",
    "\n",
    "def main():\n",
    "    year = \"2021\"\n",
    "    leagueID = \"2132617421\"\n",
    "    espn_s2 = \"AEBlmW%2BnPlQPu68%2B3lzmpbsb5hNTRKEtHrL%2Bq8FkioyJ%2BAkHtJm7yYEagGmtwT%2BH4Wb9lhRdwJzDvYyDuUQ8huceOylAFUJtO3MVkxn0EsDJk47eyalQUduQyirWQiRoByYOp%2Bjhc8pG4Gfi2KftR2%2FBXgElrd734Lz0TBXCYDb33tB3PQt8S1Q6GcdZZ757%2BMeBz%2Fd87XfRCkn3Kgs%2FnB40EJtzL30SlEPeKBmB%2ByUdrysHbYZz9ESlKSIkBuey92sudtrZvPf5NUAIoAOmX2Py7fM1V1E%2F0zHImDLRUcar%2Bw%3D%3D\"\n",
    "    swid = \"{9AED192A-A64B-4ECA-9772-BDDE2396067C}\"\n",
    "\n",
    "#     year = \"2020\"\n",
    "#     leagueID = \"139889\"\n",
    "#     espn_s2 = \"AEBVAY4IP16BsQVvRgpY1hGOur4OKjZCVh6vfBIibHEoA5BHQCg3rZGBvbNbuESU3bQlfQzdveoAqNcmIhoBoO10gq2K%2FOhtdYamn6aQBihs%2FydsgoJehuJgLwAIdcaXlnehxcpTltR58fP0cX18vjZReJjo0OjZGUSOr3ff0Iuz1Ztt8c4rUkFJVTd8cEd%2BT76%2Bvva8s5iQGAfKTUfPA9P2k6xC33qYcaH%2FIYykwIC00PKoJOlysod9yM5bUrA39lpJ2WZQfdICgqXt5zu%2FYaDpiXVznvExI4BIoEFnEVfs3w%3D%3D\"\n",
    "#     swid = \"{65C194B8-D67C-4A07-8990-988E5F391434}\"\n",
    "\n",
    "    IAA_League = League(year, leagueID, espn_s2, swid)\n",
    "\n",
    "    #reader = pprint.PrettyPrinter()\n",
    "    #reader.pprint(IAA_League.fetch_matchup_rosters())  \n",
    "    \n",
    "    this_week = 1\n",
    "    matchup_rosters = IAA_League.fetch_matchup_rosters()\n",
    "    teams = IAA_League.fetch_teams()\n",
    "    \n",
    "    for key, matchup in matchup_rosters:\n",
    "        if matchup['week'] == this_week:\n",
    "            print(matchup)\n",
    "    \n",
    "if __name__ == \"__main__\":\n",
    "    main()"
   ]
  },
  {
   "cell_type": "code",
   "execution_count": null,
   "metadata": {},
   "outputs": [],
   "source": []
  }
 ],
 "metadata": {
  "kernelspec": {
   "display_name": "Python 3",
   "language": "python",
   "name": "python3"
  },
  "language_info": {
   "codemirror_mode": {
    "name": "ipython",
    "version": 3
   },
   "file_extension": ".py",
   "mimetype": "text/x-python",
   "name": "python",
   "nbconvert_exporter": "python",
   "pygments_lexer": "ipython3",
   "version": "3.8.5"
  }
 },
 "nbformat": 4,
 "nbformat_minor": 4
}
