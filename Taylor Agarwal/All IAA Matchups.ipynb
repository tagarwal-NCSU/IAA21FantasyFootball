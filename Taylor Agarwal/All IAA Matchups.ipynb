{
 "cells": [
  {
   "cell_type": "code",
   "execution_count": 1,
   "metadata": {},
   "outputs": [],
   "source": [
    "from ESPNAPI import League\n",
    "import pprint\n",
    "import pandas as pd\n",
    "\n",
    "path = \"../IAA League Data/\"\n",
    "\n",
    "year = \"2021\"\n",
    "leagueID = \"2132617421\"\n",
    "espn_s2 = \"AEBlmW%2BnPlQPu68%2B3lzmpbsb5hNTRKEtHrL%2Bq8FkioyJ%2BAkHtJm7yYEagGmtwT%2BH4Wb9lhRdwJzDvYyDuUQ8huceOylAFUJtO3MVkxn0EsDJk47eyalQUduQyirWQiRoByYOp%2Bjhc8pG4Gfi2KftR2%2FBXgElrd734Lz0TBXCYDb33tB3PQt8S1Q6GcdZZ757%2BMeBz%2Fd87XfRCkn3Kgs%2FnB40EJtzL30SlEPeKBmB%2ByUdrysHbYZz9ESlKSIkBuey92sudtrZvPf5NUAIoAOmX2Py7fM1V1E%2F0zHImDLRUcar%2Bw%3D%3D\"\n",
    "swid = \"{9AED192A-A64B-4ECA-9772-BDDE2396067C}\"\n",
    "\n",
    "IAA_League = League(year, leagueID, espn_s2, swid)  \n",
    "\n",
    "#Fetch rosters and teams\n",
    "matchup_rosters = IAA_League.fetch_matchup_rosters()\n",
    "teams = IAA_League.fetch_teams()\n",
    "\n",
    "reader = pprint.PrettyPrinter()\n",
    "\n",
    "first = True\n",
    "for key, matchup in matchup_rosters.items():\n",
    "    week = matchup['week']\n",
    "    home_team = teams[matchup['homeTeamId']]['teamName']\n",
    "    away_team = teams[matchup['awayTeamId']]['teamName']\n",
    "    n_players = len(matchup['homeRoster'])\n",
    "    home_dict = {'Week': [week] * n_players,\n",
    "                 'MatchupId': [key] * n_players,\n",
    "                 'Home/Away': [\"Home\"] * n_players,\n",
    "                 'Team': [home_team] * n_players,\n",
    "                 'Player': matchup['homeRoster'],\n",
    "                 'Slot': matchup['homeLineup'],\n",
    "                 'Points': matchup['homeRosterScore'],\n",
    "                 'Eligible Slots': [\", \".join(lst) for lst in matchup['homeRosterEligibleSlots']]\n",
    "                }\n",
    "    n_players = len(matchup['awayRoster'])\n",
    "    away_dict = {'Week': [week] * n_players,\n",
    "                 'MatchupId': [key] * n_players,\n",
    "                 'Home/Away': [\"Away\"] * n_players,\n",
    "                 'Team': [away_team] * n_players,\n",
    "                 'Player': matchup['awayRoster'],\n",
    "                 'Slot': matchup['awayLineup'],\n",
    "                 'Points': matchup['awayRosterScore'],\n",
    "                 'Eligible Slots': [\", \".join(lst) for lst in matchup['awayRosterEligibleSlots']]\n",
    "                }\n",
    "    home_df = pd.DataFrame(home_dict)\n",
    "    away_df = pd.DataFrame(away_dict)\n",
    "    if first:\n",
    "        df = pd.concat([home_df, away_df])\n",
    "        df.to_csv(path + \"MATCHUP_DATA_\"+str(year)+\".csv\", index=False)\n",
    "        first = False\n",
    "    else:\n",
    "        df = pd.concat([home_df, away_df])\n",
    "        df.to_csv(path + \"MATCHUP_DATA_\"+str(year)+\".csv\", index=False, header=False, mode='a')    "
   ]
  },
  {
   "cell_type": "code",
   "execution_count": null,
   "metadata": {},
   "outputs": [],
   "source": []
  }
 ],
 "metadata": {
  "kernelspec": {
   "display_name": "Python 3 (ipykernel)",
   "language": "python",
   "name": "python3"
  },
  "language_info": {
   "codemirror_mode": {
    "name": "ipython",
    "version": 3
   },
   "file_extension": ".py",
   "mimetype": "text/x-python",
   "name": "python",
   "nbconvert_exporter": "python",
   "pygments_lexer": "ipython3",
   "version": "3.9.7"
  }
 },
 "nbformat": 4,
 "nbformat_minor": 4
}
